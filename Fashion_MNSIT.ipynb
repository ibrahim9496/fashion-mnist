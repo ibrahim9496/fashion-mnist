{
 "cells": [
  {
   "cell_type": "markdown",
   "metadata": {},
   "source": [
    "# Fashion Mnist- Deep Learning Assignment"
   ]
  },
  {
   "cell_type": "raw",
   "metadata": {},
   "source": [
    "Roll# PIAIC116620\n",
    "Name: Ibrahim Khurshid"
   ]
  },
  {
   "cell_type": "markdown",
   "metadata": {
    "id": "N9GCqy39X1Mt"
   },
   "source": [
    "# Organizing Imports"
   ]
  },
  {
   "cell_type": "code",
   "execution_count": null,
   "metadata": {
    "id": "lZ9TiIFKX7Tf",
    "scrolled": true
   },
   "outputs": [],
   "source": [
    "# importing fashion_mnist dataset built into tensorflow \n",
    "from tensorflow.keras.datasets import fashion_mnist\n",
    "\n",
    "# importing matplotlib for visualization\n",
    "import matplotlib.pyplot as plt\n",
    "\n",
    "# importing numpy for matrix operations\n",
    "import numpy as np\n",
    "\n",
    "# Tensorflow built-in One Hot Encoding\n",
    "from tensorflow.keras.utils import to_categorical\n",
    "\n",
    "# Tensorflow built-in models/optimizers\n",
    "from tensorflow.keras.models import Sequential\n",
    "from tensorflow.keras.layers import Dense , Flatten , Dropout\n",
    "from tensorflow.keras.activations import relu ,softmax\n",
    "from tensorflow.keras.optimizers import RMSprop \n",
    "from tensorflow.keras.losses import categorical_crossentropy\n"
   ]
  },
  {
   "cell_type": "markdown",
   "metadata": {},
   "source": [
    "# Test-Train Split"
   ]
  },
  {
   "cell_type": "code",
   "execution_count": null,
   "metadata": {
    "id": "yH4kvXcQYE2I"
   },
   "outputs": [],
   "source": [
    "# splitting the dataset into training and testing data\n",
    "(train_images,train_labels) , (test_images, test_labels) = fashion_mnist.load_data()"
   ]
  },
  {
   "cell_type": "markdown",
   "metadata": {},
   "source": [
    "# Analyzing Dataset"
   ]
  },
  {
   "cell_type": "markdown",
   "metadata": {},
   "source": [
    "### 1. Train Dataset"
   ]
  },
  {
   "cell_type": "code",
   "execution_count": null,
   "metadata": {
    "colab": {
     "base_uri": "https://localhost:8080/"
    },
    "id": "g9xYGi5aYdP-",
    "outputId": "75e39de7-4239-4b12-eeb3-5044a8c61371"
   },
   "outputs": [],
   "source": [
    "# displaying length of training and testing dataset\n",
    "print(\"Train Images: \",len(train_images))\n",
    "print(\"Train Labels: \",len(train_labels))"
   ]
  },
  {
   "cell_type": "code",
   "execution_count": null,
   "metadata": {},
   "outputs": [],
   "source": [
    "# displaying the shape of our train data\n",
    "print(\"Images: \",train_images.shape)\n",
    "print(\"Labels: \",train_labels.shape)"
   ]
  },
  {
   "cell_type": "markdown",
   "metadata": {},
   "source": [
    "### 2. Test Dataset"
   ]
  },
  {
   "cell_type": "code",
   "execution_count": null,
   "metadata": {
    "colab": {
     "base_uri": "https://localhost:8080/"
    },
    "id": "_crCMdmTYkbV",
    "outputId": "c0366a3b-d74a-4180-97b8-d849dcdb5efc"
   },
   "outputs": [],
   "source": [
    "print(\"Test Images: \",len(test_images))\n",
    "print(\"Test Labels: \",len(test_labels))"
   ]
  },
  {
   "cell_type": "code",
   "execution_count": null,
   "metadata": {
    "colab": {
     "base_uri": "https://localhost:8080/"
    },
    "id": "rSYN2kUFYyby",
    "outputId": "93a681a5-70d1-4d56-b451-6d0c83c9e574"
   },
   "outputs": [],
   "source": [
    "print(\"Test: \",test_images.shape)\n",
    "print(\"Labels: \",test_labels.shape)"
   ]
  },
  {
   "cell_type": "markdown",
   "metadata": {},
   "source": [
    "# Labels to Mnist_Fashion Class Mapping"
   ]
  },
  {
   "cell_type": "code",
   "execution_count": null,
   "metadata": {
    "id": "D6V7yZYsY8hA"
   },
   "outputs": [],
   "source": [
    "class_names = ['T-shirt/top', 'Trouser', 'Pullover', 'Dress', 'Coat',\n",
    "               'Sandal', 'Shirt', 'Sneaker', 'Bag', 'Ankle boot']"
   ]
  },
  {
   "cell_type": "code",
   "execution_count": null,
   "metadata": {
    "colab": {
     "base_uri": "https://localhost:8080/",
     "height": 282
    },
    "id": "89yq7HCZZdj4",
    "outputId": "4a34ba23-830b-4d63-f78e-845a32798e3c"
   },
   "outputs": [],
   "source": [
    "plt.title(class_names[train_labels[34]])\n",
    "plt.imshow(train_images[34] , cmap=plt.cm.binary)\n",
    "plt.show()"
   ]
  },
  {
   "cell_type": "code",
   "execution_count": null,
   "metadata": {
    "colab": {
     "base_uri": "https://localhost:8080/"
    },
    "id": "JX_RiMtoZ3Tv",
    "outputId": "386c333b-be00-423a-a908-ef35e258a535"
   },
   "outputs": [],
   "source": [
    "# displaying unique labels\n",
    "print(\"Unique Train Labels: \",np.unique(train_labels))\n",
    "print(\"Unique Test Labels: \",np.unique(test_labels))"
   ]
  },
  {
   "cell_type": "markdown",
   "metadata": {
    "id": "ea-cWa8QbsmK"
   },
   "source": [
    "# Normalizing Our Dataset"
   ]
  },
  {
   "cell_type": "code",
   "execution_count": null,
   "metadata": {
    "colab": {
     "base_uri": "https://localhost:8080/"
    },
    "id": "TIZ-vOzRbxT0",
    "outputId": "55c76afb-44d9-4fb3-ae3c-dc3a429d41bf"
   },
   "outputs": [
    {
     "name": "stdout",
     "output_type": "stream",
     "text": [
      "(60000, 784)\n",
      "(60000, 784)\n",
      "(60000, 784)\n"
     ]
    }
   ],
   "source": [
    "print(train_images.shape)\n",
    "train_images=train_images.reshape((60000, 28*28))\n",
    "print(train_images.shape)\n",
    "train_images=train_images.astype(\"float32\")/255\n",
    "print(train_images.shape)\n",
    "\n",
    "test_images=test_images.reshape((10000, 28*28))\n",
    "test_images=test_images.astype(\"float32\")/255"
   ]
  },
  {
   "cell_type": "markdown",
   "metadata": {
    "id": "AvQgX0qwdAIq"
   },
   "source": [
    "# Label Transformation/ One-Hot Encoding"
   ]
  },
  {
   "cell_type": "code",
   "execution_count": null,
   "metadata": {
    "id": "kxiWkgAHdEye"
   },
   "outputs": [],
   "source": [
    "# One Hot Encoding\n",
    "train_labels = to_categorical(train_labels)\n",
    "test_labels = to_categorical(test_labels)"
   ]
  },
  {
   "cell_type": "markdown",
   "metadata": {
    "id": "k9JXKXXtdjHD"
   },
   "source": [
    "# Making Model Network Architecture"
   ]
  },
  {
   "cell_type": "code",
   "execution_count": null,
   "metadata": {
    "id": "vwTeMXsOxcn0"
   },
   "outputs": [],
   "source": [
    "model = Sequential()\n",
    "model.add(Dense(512 , activation=relu , input_shape=(28*28,)))\n",
    "model.add(Dropout(0.2))\n",
    "model.add(Dense(10 , activation=softmax))"
   ]
  },
  {
   "cell_type": "markdown",
   "metadata": {},
   "source": [
    "# Display Network Architecture"
   ]
  },
  {
   "cell_type": "code",
   "execution_count": null,
   "metadata": {},
   "outputs": [],
   "source": [
    "model.summary()"
   ]
  },
  {
   "cell_type": "markdown",
   "metadata": {},
   "source": [
    "# Compiling the Model"
   ]
  },
  {
   "cell_type": "code",
   "execution_count": null,
   "metadata": {
    "id": "ZRm5kxfuyNj8"
   },
   "outputs": [],
   "source": [
    "model.compile(optimizer='rmsprop' , loss='categorical_crossentropy' , metrics=['acc'])"
   ]
  },
  {
   "cell_type": "markdown",
   "metadata": {},
   "source": [
    "# Training Model"
   ]
  },
  {
   "cell_type": "code",
   "execution_count": null,
   "metadata": {
    "colab": {
     "base_uri": "https://localhost:8080/"
    },
    "id": "WJVLGK39zjnR",
    "outputId": "bf4b767d-7ff3-4952-f943-350c0e1fb2e3",
    "scrolled": true
   },
   "outputs": [
    {
     "name": "stdout",
     "output_type": "stream",
     "text": [
      "Epoch 1/5\n",
      "469/469 [==============================] - 5s 11ms/step - loss: 0.4979 - acc: 0.8227\n",
      "Epoch 2/5\n",
      "469/469 [==============================] - 5s 11ms/step - loss: 0.4795 - acc: 0.8304\n",
      "Epoch 3/5\n",
      "469/469 [==============================] - 5s 11ms/step - loss: 0.4633 - acc: 0.8371\n",
      "Epoch 4/5\n",
      "469/469 [==============================] - 5s 11ms/step - loss: 0.4501 - acc: 0.8391\n",
      "Epoch 5/5\n",
      "469/469 [==============================] - 5s 11ms/step - loss: 0.4400 - acc: 0.8437\n"
     ]
    }
   ],
   "source": [
    "train_history=model.fit(train_images, train_labels, epochs=5, batch_size=128)"
   ]
  },
  {
   "cell_type": "code",
   "execution_count": null,
   "metadata": {
    "colab": {
     "base_uri": "https://localhost:8080/"
    },
    "id": "Onjgyj6S0Y5y",
    "outputId": "ce850a23-7598-40d9-ce5d-cc2f534f700e"
   },
   "outputs": [
    {
     "name": "stdout",
     "output_type": "stream",
     "text": [
      "dict_keys(['loss', 'acc'])\n"
     ]
    }
   ],
   "source": [
    "print(history.history.keys())"
   ]
  },
  {
   "cell_type": "code",
   "execution_count": null,
   "metadata": {
    "colab": {
     "base_uri": "https://localhost:8080/",
     "height": 295
    },
    "id": "E-6HWlEy9UCq",
    "outputId": "054a6092-71f5-41e4-b62e-5a30d895d9a3"
   },
   "outputs": [],
   "source": [
    "#  \"Accuracy\"\n",
    "plt.plot(history.history['acc'])\n",
    "plt.plot(history.history['loss'])\n",
    "plt.title('model accuracy and loss')\n",
    "plt.ylabel('accuracy')\n",
    "plt.xlabel('epoch')\n",
    "plt.legend(['train acc','trian loss'], loc='upper left')\n",
    "plt.show()"
   ]
  },
  {
   "cell_type": "markdown",
   "metadata": {},
   "source": [
    "# Model Evaluation"
   ]
  },
  {
   "cell_type": "code",
   "execution_count": null,
   "metadata": {
    "colab": {
     "base_uri": "https://localhost:8080/"
    },
    "id": "k5sKzdzz7XvO",
    "outputId": "8707ffcd-6872-4310-ac39-cea75cb08144"
   },
   "outputs": [
    {
     "name": "stdout",
     "output_type": "stream",
     "text": [
      "313/313 [==============================] - 1s 2ms/step - loss: 0.5263 - acc: 0.8111\n"
     ]
    }
   ],
   "source": [
    "test_loss, test_acc = model.evaluate(test_images , test_labels)\n",
    "print(\"Loss: \" , test_loss)\n",
    "print(\"Model Accuracy: \" , test_acc)"
   ]
  }
 ],
 "metadata": {
  "colab": {
   "collapsed_sections": [],
   "name": "MNIST-Fashion.ipynb",
   "provenance": []
  },
  "kernelspec": {
   "display_name": "Python 3",
   "language": "python",
   "name": "python3"
  },
  "language_info": {
   "codemirror_mode": {
    "name": "ipython",
    "version": 3
   },
   "file_extension": ".py",
   "mimetype": "text/x-python",
   "name": "python",
   "nbconvert_exporter": "python",
   "pygments_lexer": "ipython3",
   "version": "3.8.5"
  }
 },
 "nbformat": 4,
 "nbformat_minor": 1
}
